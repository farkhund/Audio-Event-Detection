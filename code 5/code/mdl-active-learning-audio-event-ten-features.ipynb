{
 "cells": [
  {
   "cell_type": "markdown",
   "metadata": {
    "id": "dGIJTvVP2fKr"
   },
   "source": [
    "## Load Libraries"
   ]
  },
  {
   "cell_type": "code",
   "execution_count": 1,
   "metadata": {
    "execution": {
     "iopub.execute_input": "2023-01-30T11:38:40.676946Z",
     "iopub.status.busy": "2023-01-30T11:38:40.675924Z",
     "iopub.status.idle": "2023-01-30T11:38:48.814655Z",
     "shell.execute_reply": "2023-01-30T11:38:48.813685Z",
     "shell.execute_reply.started": "2023-01-30T11:38:40.676328Z"
    },
    "id": "X0LTf28i2hk0",
    "trusted": true
   },
   "outputs": [],
   "source": [
    "## Plotting Libaray\n",
    "import matplotlib.pyplot as plt ## used for creating Graphs and charts\n",
    "import seaborn as sns ## used for creating Graphs and charts\n",
    "import plotly.express as px\n",
    "## Pandas Dataframe Library\n",
    "import pandas as pd \n",
    "## Numpy Library\n",
    "import numpy as np ## used for methamtical compution and handle multi-dimensional arrays and matrices\n",
    "## Train and Test Split\n",
    "from sklearn.model_selection import train_test_split\n",
    "## Evaluation Matrics\n",
    "from sklearn.metrics import confusion_matrix\n",
    "from sklearn.metrics import classification_report\n",
    "## Normalize\n",
    "from sklearn.preprocessing import StandardScaler\n",
    "## Models\n",
    "from sklearn.svm import SVC\n",
    "from sklearn.naive_bayes import GaussianNB\n",
    "from sklearn.ensemble import RandomForestClassifier\n",
    "from sklearn.linear_model import LogisticRegression\n",
    "from sklearn.neural_network import MLPClassifier\n",
    "import xgboost as XGBClassifier\n",
    "import tensorflow as tf\n",
    "from tensorflow import keras\n",
    "from keras.models import Sequential\n",
    "from keras.layers import Dense, Activation, Flatten,Dropout\n",
    "from keras.optimizers import *\n",
    "## Kfold and ROC\n",
    "from sklearn.metrics import accuracy_score,auc\n",
    "from sklearn import preprocessing\n",
    "## Sampling Technique\n",
    "from imblearn.under_sampling import TomekLinks\n",
    "from imblearn.over_sampling import SMOTE\n",
    "from imblearn.pipeline import Pipeline"
   ]
  },
  {
   "cell_type": "markdown",
   "metadata": {
    "id": "e9bg2tRvr_5j"
   },
   "source": [
    "## Importing dataset\n"
   ]
  },
  {
   "cell_type": "code",
   "execution_count": 4,
   "metadata": {
    "execution": {
     "iopub.execute_input": "2023-01-30T11:38:48.817512Z",
     "iopub.status.busy": "2023-01-30T11:38:48.816670Z",
     "iopub.status.idle": "2023-01-30T11:38:52.045928Z",
     "shell.execute_reply": "2023-01-30T11:38:52.044977Z",
     "shell.execute_reply.started": "2023-01-30T11:38:48.817466Z"
    },
    "id": "dDLrMknIr9gy",
    "trusted": true
   },
   "outputs": [],
   "source": [
    "df = pd.read_csv (r'C:\\Users\\faiqa\\Downloads\\code\\code\\New_Wav_Set_gpu_Add_noise.csv')\n"
   ]
  },
  {
   "cell_type": "code",
   "execution_count": 5,
   "metadata": {
    "colab": {
     "base_uri": "https://localhost:8080/",
     "height": 205
    },
    "execution": {
     "iopub.execute_input": "2023-01-30T11:38:52.047954Z",
     "iopub.status.busy": "2023-01-30T11:38:52.047570Z",
     "iopub.status.idle": "2023-01-30T11:38:52.086127Z",
     "shell.execute_reply": "2023-01-30T11:38:52.084409Z",
     "shell.execute_reply.started": "2023-01-30T11:38:52.047917Z"
    },
    "id": "sNbKjo_vp5jN",
    "outputId": "2487517a-895f-4422-d99b-3cd1a8b39a05",
    "trusted": true
   },
   "outputs": [
    {
     "data": {
      "text/html": [
       "<div>\n",
       "<style scoped>\n",
       "    .dataframe tbody tr th:only-of-type {\n",
       "        vertical-align: middle;\n",
       "    }\n",
       "\n",
       "    .dataframe tbody tr th {\n",
       "        vertical-align: top;\n",
       "    }\n",
       "\n",
       "    .dataframe thead th {\n",
       "        text-align: right;\n",
       "    }\n",
       "</style>\n",
       "<table border=\"1\" class=\"dataframe\">\n",
       "  <thead>\n",
       "    <tr style=\"text-align: right;\">\n",
       "      <th></th>\n",
       "      <th>0</th>\n",
       "      <th>1</th>\n",
       "      <th>2</th>\n",
       "      <th>3</th>\n",
       "      <th>4</th>\n",
       "      <th>5</th>\n",
       "      <th>6</th>\n",
       "      <th>7</th>\n",
       "      <th>8</th>\n",
       "      <th>9</th>\n",
       "      <th>...</th>\n",
       "      <th>279</th>\n",
       "      <th>280</th>\n",
       "      <th>281</th>\n",
       "      <th>282</th>\n",
       "      <th>283</th>\n",
       "      <th>284</th>\n",
       "      <th>285</th>\n",
       "      <th>286</th>\n",
       "      <th>287</th>\n",
       "      <th>EVENTS</th>\n",
       "    </tr>\n",
       "  </thead>\n",
       "  <tbody>\n",
       "    <tr>\n",
       "      <th>0</th>\n",
       "      <td>-524.309204</td>\n",
       "      <td>54.119823</td>\n",
       "      <td>-29.046663</td>\n",
       "      <td>20.456963</td>\n",
       "      <td>-4.020579</td>\n",
       "      <td>18.872765</td>\n",
       "      <td>-5.430302</td>\n",
       "      <td>7.887723</td>\n",
       "      <td>2.320919</td>\n",
       "      <td>-0.680859</td>\n",
       "      <td>...</td>\n",
       "      <td>0.047693</td>\n",
       "      <td>0.000982</td>\n",
       "      <td>0.047693</td>\n",
       "      <td>0.003957</td>\n",
       "      <td>0.013916</td>\n",
       "      <td>7.710125</td>\n",
       "      <td>0.176152</td>\n",
       "      <td>0.000677</td>\n",
       "      <td>0.176152</td>\n",
       "      <td>police_siren</td>\n",
       "    </tr>\n",
       "    <tr>\n",
       "      <th>1</th>\n",
       "      <td>-460.817443</td>\n",
       "      <td>18.320545</td>\n",
       "      <td>-18.052451</td>\n",
       "      <td>5.783925</td>\n",
       "      <td>2.953812</td>\n",
       "      <td>10.568577</td>\n",
       "      <td>0.686862</td>\n",
       "      <td>3.508634</td>\n",
       "      <td>4.064032</td>\n",
       "      <td>-0.629869</td>\n",
       "      <td>...</td>\n",
       "      <td>0.047670</td>\n",
       "      <td>0.001223</td>\n",
       "      <td>0.047670</td>\n",
       "      <td>0.004005</td>\n",
       "      <td>0.013936</td>\n",
       "      <td>7.697752</td>\n",
       "      <td>0.177207</td>\n",
       "      <td>0.000687</td>\n",
       "      <td>0.177207</td>\n",
       "      <td>police_siren</td>\n",
       "    </tr>\n",
       "    <tr>\n",
       "      <th>2</th>\n",
       "      <td>-458.077026</td>\n",
       "      <td>70.737419</td>\n",
       "      <td>29.732494</td>\n",
       "      <td>28.730505</td>\n",
       "      <td>23.089603</td>\n",
       "      <td>13.038505</td>\n",
       "      <td>10.418894</td>\n",
       "      <td>8.845700</td>\n",
       "      <td>7.042854</td>\n",
       "      <td>6.941899</td>\n",
       "      <td>...</td>\n",
       "      <td>0.400289</td>\n",
       "      <td>0.003638</td>\n",
       "      <td>0.400289</td>\n",
       "      <td>0.599422</td>\n",
       "      <td>1.881032</td>\n",
       "      <td>7.425132</td>\n",
       "      <td>26.528872</td>\n",
       "      <td>0.207177</td>\n",
       "      <td>26.528872</td>\n",
       "      <td>explosion</td>\n",
       "    </tr>\n",
       "    <tr>\n",
       "      <th>3</th>\n",
       "      <td>-276.169611</td>\n",
       "      <td>22.346240</td>\n",
       "      <td>11.171237</td>\n",
       "      <td>10.389476</td>\n",
       "      <td>10.187685</td>\n",
       "      <td>6.309208</td>\n",
       "      <td>4.499051</td>\n",
       "      <td>4.094253</td>\n",
       "      <td>3.290014</td>\n",
       "      <td>3.552038</td>\n",
       "      <td>...</td>\n",
       "      <td>0.400520</td>\n",
       "      <td>0.008856</td>\n",
       "      <td>0.400520</td>\n",
       "      <td>0.602432</td>\n",
       "      <td>1.881265</td>\n",
       "      <td>7.509986</td>\n",
       "      <td>26.611770</td>\n",
       "      <td>0.206917</td>\n",
       "      <td>26.611770</td>\n",
       "      <td>explosion</td>\n",
       "    </tr>\n",
       "    <tr>\n",
       "      <th>4</th>\n",
       "      <td>-409.186829</td>\n",
       "      <td>90.520813</td>\n",
       "      <td>0.597680</td>\n",
       "      <td>27.039671</td>\n",
       "      <td>5.958148</td>\n",
       "      <td>7.617988</td>\n",
       "      <td>-0.059910</td>\n",
       "      <td>11.371256</td>\n",
       "      <td>6.562818</td>\n",
       "      <td>3.329183</td>\n",
       "      <td>...</td>\n",
       "      <td>0.322958</td>\n",
       "      <td>0.004190</td>\n",
       "      <td>0.322958</td>\n",
       "      <td>0.126391</td>\n",
       "      <td>0.154783</td>\n",
       "      <td>6.872290</td>\n",
       "      <td>2.311194</td>\n",
       "      <td>0.092176</td>\n",
       "      <td>2.311194</td>\n",
       "      <td>baby_cry</td>\n",
       "    </tr>\n",
       "  </tbody>\n",
       "</table>\n",
       "<p>5 rows × 289 columns</p>\n",
       "</div>"
      ],
      "text/plain": [
       "            0          1          2          3          4          5  \\\n",
       "0 -524.309204  54.119823 -29.046663  20.456963  -4.020579  18.872765   \n",
       "1 -460.817443  18.320545 -18.052451   5.783925   2.953812  10.568577   \n",
       "2 -458.077026  70.737419  29.732494  28.730505  23.089603  13.038505   \n",
       "3 -276.169611  22.346240  11.171237  10.389476  10.187685   6.309208   \n",
       "4 -409.186829  90.520813   0.597680  27.039671   5.958148   7.617988   \n",
       "\n",
       "           6          7         8         9  ...       279       280  \\\n",
       "0  -5.430302   7.887723  2.320919 -0.680859  ...  0.047693  0.000982   \n",
       "1   0.686862   3.508634  4.064032 -0.629869  ...  0.047670  0.001223   \n",
       "2  10.418894   8.845700  7.042854  6.941899  ...  0.400289  0.003638   \n",
       "3   4.499051   4.094253  3.290014  3.552038  ...  0.400520  0.008856   \n",
       "4  -0.059910  11.371256  6.562818  3.329183  ...  0.322958  0.004190   \n",
       "\n",
       "        281       282       283       284        285       286        287  \\\n",
       "0  0.047693  0.003957  0.013916  7.710125   0.176152  0.000677   0.176152   \n",
       "1  0.047670  0.004005  0.013936  7.697752   0.177207  0.000687   0.177207   \n",
       "2  0.400289  0.599422  1.881032  7.425132  26.528872  0.207177  26.528872   \n",
       "3  0.400520  0.602432  1.881265  7.509986  26.611770  0.206917  26.611770   \n",
       "4  0.322958  0.126391  0.154783  6.872290   2.311194  0.092176   2.311194   \n",
       "\n",
       "         EVENTS  \n",
       "0  police_siren  \n",
       "1  police_siren  \n",
       "2     explosion  \n",
       "3     explosion  \n",
       "4      baby_cry  \n",
       "\n",
       "[5 rows x 289 columns]"
      ]
     },
     "execution_count": 5,
     "metadata": {},
     "output_type": "execute_result"
    }
   ],
   "source": [
    "df.head(5)"
   ]
  },
  {
   "cell_type": "markdown",
   "metadata": {
    "id": "37NLAmeRsYnn"
   },
   "source": [
    "## Number of Rows and Columns"
   ]
  },
  {
   "cell_type": "code",
   "execution_count": 6,
   "metadata": {
    "colab": {
     "base_uri": "https://localhost:8080/"
    },
    "execution": {
     "iopub.execute_input": "2023-01-30T11:38:52.090192Z",
     "iopub.status.busy": "2023-01-30T11:38:52.089812Z",
     "iopub.status.idle": "2023-01-30T11:38:52.097769Z",
     "shell.execute_reply": "2023-01-30T11:38:52.096639Z",
     "shell.execute_reply.started": "2023-01-30T11:38:52.090155Z"
    },
    "id": "PHlBG70xsV54",
    "outputId": "d601d763-3a90-4ec0-def1-d745c0e824d0",
    "trusted": true
   },
   "outputs": [
    {
     "name": "stdout",
     "output_type": "stream",
     "text": [
      "Number of Rows: 21920\n",
      "Number of Columns: 289\n"
     ]
    }
   ],
   "source": [
    "## Dimensionlaity of the Model\n",
    "print(\"Number of Rows:\", df.shape[0])\n",
    "print(\"Number of Columns:\", df.shape[1])"
   ]
  },
  {
   "cell_type": "markdown",
   "metadata": {
    "id": "0Q6OKQ3oslRF"
   },
   "source": [
    "## Columns"
   ]
  },
  {
   "cell_type": "code",
   "execution_count": 7,
   "metadata": {
    "colab": {
     "base_uri": "https://localhost:8080/"
    },
    "execution": {
     "iopub.execute_input": "2023-01-30T11:38:52.099883Z",
     "iopub.status.busy": "2023-01-30T11:38:52.099452Z",
     "iopub.status.idle": "2023-01-30T11:38:52.111661Z",
     "shell.execute_reply": "2023-01-30T11:38:52.110699Z",
     "shell.execute_reply.started": "2023-01-30T11:38:52.099845Z"
    },
    "id": "mXHRF9gZsmc2",
    "outputId": "387d1397-112e-4268-e48d-081fa607bf6e",
    "trusted": true
   },
   "outputs": [
    {
     "data": {
      "text/plain": [
       "Index(['0', '1', '2', '3', '4', '5', '6', '7', '8', '9',\n",
       "       ...\n",
       "       '279', '280', '281', '282', '283', '284', '285', '286', '287',\n",
       "       'EVENTS'],\n",
       "      dtype='object', length=289)"
      ]
     },
     "execution_count": 7,
     "metadata": {},
     "output_type": "execute_result"
    }
   ],
   "source": [
    "df.columns"
   ]
  },
  {
   "cell_type": "markdown",
   "metadata": {
    "id": "MenCn06UKgR_"
   },
   "source": [
    "# Type of Columns"
   ]
  },
  {
   "cell_type": "code",
   "execution_count": 8,
   "metadata": {
    "colab": {
     "base_uri": "https://localhost:8080/"
    },
    "execution": {
     "iopub.execute_input": "2023-01-30T11:38:52.113812Z",
     "iopub.status.busy": "2023-01-30T11:38:52.113396Z",
     "iopub.status.idle": "2023-01-30T11:38:52.125411Z",
     "shell.execute_reply": "2023-01-30T11:38:52.124416Z",
     "shell.execute_reply.started": "2023-01-30T11:38:52.113721Z"
    },
    "id": "G1ISmvrYKgSC",
    "outputId": "6696f676-5079-4717-9a30-333519755f40",
    "scrolled": true,
    "trusted": true
   },
   "outputs": [
    {
     "data": {
      "text/plain": [
       "0         float64\n",
       "1         float64\n",
       "2         float64\n",
       "3         float64\n",
       "4         float64\n",
       "           ...   \n",
       "284       float64\n",
       "285       float64\n",
       "286       float64\n",
       "287       float64\n",
       "EVENTS     object\n",
       "Length: 289, dtype: object"
      ]
     },
     "execution_count": 8,
     "metadata": {},
     "output_type": "execute_result"
    }
   ],
   "source": [
    "df.dtypes"
   ]
  },
  {
   "cell_type": "markdown",
   "metadata": {
    "id": "W58ZG6II1rdo"
   },
   "source": [
    "## SUmmary \n",
    "* Count\n",
    "* mean\n",
    "* Min\n",
    "* Max\n",
    "* STD"
   ]
  },
  {
   "cell_type": "code",
   "execution_count": 9,
   "metadata": {
    "colab": {
     "base_uri": "https://localhost:8080/",
     "height": 299
    },
    "execution": {
     "iopub.execute_input": "2023-01-30T11:38:52.127590Z",
     "iopub.status.busy": "2023-01-30T11:38:52.127218Z",
     "iopub.status.idle": "2023-01-30T11:38:53.093295Z",
     "shell.execute_reply": "2023-01-30T11:38:53.092256Z",
     "shell.execute_reply.started": "2023-01-30T11:38:52.127554Z"
    },
    "id": "UFqBrQ6mNuVK",
    "outputId": "c5a5f4da-9b3e-40df-f274-eefc3c653b6c",
    "trusted": true
   },
   "outputs": [
    {
     "data": {
      "text/html": [
       "<div>\n",
       "<style scoped>\n",
       "    .dataframe tbody tr th:only-of-type {\n",
       "        vertical-align: middle;\n",
       "    }\n",
       "\n",
       "    .dataframe tbody tr th {\n",
       "        vertical-align: top;\n",
       "    }\n",
       "\n",
       "    .dataframe thead th {\n",
       "        text-align: right;\n",
       "    }\n",
       "</style>\n",
       "<table border=\"1\" class=\"dataframe\">\n",
       "  <thead>\n",
       "    <tr style=\"text-align: right;\">\n",
       "      <th></th>\n",
       "      <th>0</th>\n",
       "      <th>1</th>\n",
       "      <th>2</th>\n",
       "      <th>3</th>\n",
       "      <th>4</th>\n",
       "      <th>5</th>\n",
       "      <th>6</th>\n",
       "      <th>7</th>\n",
       "      <th>8</th>\n",
       "      <th>9</th>\n",
       "      <th>...</th>\n",
       "      <th>278</th>\n",
       "      <th>279</th>\n",
       "      <th>280</th>\n",
       "      <th>281</th>\n",
       "      <th>282</th>\n",
       "      <th>283</th>\n",
       "      <th>284</th>\n",
       "      <th>285</th>\n",
       "      <th>286</th>\n",
       "      <th>287</th>\n",
       "    </tr>\n",
       "  </thead>\n",
       "  <tbody>\n",
       "    <tr>\n",
       "      <th>count</th>\n",
       "      <td>21920.000000</td>\n",
       "      <td>21920.000000</td>\n",
       "      <td>21920.000000</td>\n",
       "      <td>21920.000000</td>\n",
       "      <td>21920.000000</td>\n",
       "      <td>21920.000000</td>\n",
       "      <td>21920.000000</td>\n",
       "      <td>21920.000000</td>\n",
       "      <td>21920.000000</td>\n",
       "      <td>21920.000000</td>\n",
       "      <td>...</td>\n",
       "      <td>21920.000000</td>\n",
       "      <td>21920.000000</td>\n",
       "      <td>21920.000000</td>\n",
       "      <td>21920.000000</td>\n",
       "      <td>21920.000000</td>\n",
       "      <td>21920.000000</td>\n",
       "      <td>21920.000000</td>\n",
       "      <td>21920.000000</td>\n",
       "      <td>21920.000000</td>\n",
       "      <td>21920.000000</td>\n",
       "    </tr>\n",
       "    <tr>\n",
       "      <th>mean</th>\n",
       "      <td>-362.028138</td>\n",
       "      <td>76.656521</td>\n",
       "      <td>13.867724</td>\n",
       "      <td>23.134419</td>\n",
       "      <td>13.530277</td>\n",
       "      <td>14.430811</td>\n",
       "      <td>5.822029</td>\n",
       "      <td>8.036747</td>\n",
       "      <td>5.193717</td>\n",
       "      <td>4.238122</td>\n",
       "      <td>...</td>\n",
       "      <td>5.775532</td>\n",
       "      <td>0.309760</td>\n",
       "      <td>0.016260</td>\n",
       "      <td>0.309760</td>\n",
       "      <td>13.152576</td>\n",
       "      <td>47.103890</td>\n",
       "      <td>8.849090</td>\n",
       "      <td>662.805056</td>\n",
       "      <td>4.298539</td>\n",
       "      <td>662.805056</td>\n",
       "    </tr>\n",
       "    <tr>\n",
       "      <th>std</th>\n",
       "      <td>97.657851</td>\n",
       "      <td>49.301453</td>\n",
       "      <td>20.346455</td>\n",
       "      <td>12.874986</td>\n",
       "      <td>9.791746</td>\n",
       "      <td>7.339059</td>\n",
       "      <td>6.582927</td>\n",
       "      <td>4.998027</td>\n",
       "      <td>4.381847</td>\n",
       "      <td>3.692239</td>\n",
       "      <td>...</td>\n",
       "      <td>3.919830</td>\n",
       "      <td>0.182288</td>\n",
       "      <td>0.030398</td>\n",
       "      <td>0.182288</td>\n",
       "      <td>48.093591</td>\n",
       "      <td>127.693634</td>\n",
       "      <td>7.044356</td>\n",
       "      <td>1619.426792</td>\n",
       "      <td>22.643005</td>\n",
       "      <td>1619.426792</td>\n",
       "    </tr>\n",
       "    <tr>\n",
       "      <th>min</th>\n",
       "      <td>-715.911499</td>\n",
       "      <td>-11.668478</td>\n",
       "      <td>-63.292484</td>\n",
       "      <td>-16.191671</td>\n",
       "      <td>-40.169548</td>\n",
       "      <td>-14.121813</td>\n",
       "      <td>-23.693340</td>\n",
       "      <td>-7.884364</td>\n",
       "      <td>-22.042070</td>\n",
       "      <td>-9.996052</td>\n",
       "      <td>...</td>\n",
       "      <td>-4.468212</td>\n",
       "      <td>0.014182</td>\n",
       "      <td>0.000237</td>\n",
       "      <td>0.014182</td>\n",
       "      <td>0.000325</td>\n",
       "      <td>0.000291</td>\n",
       "      <td>-0.713021</td>\n",
       "      <td>0.002335</td>\n",
       "      <td>0.000226</td>\n",
       "      <td>0.002335</td>\n",
       "    </tr>\n",
       "    <tr>\n",
       "      <th>25%</th>\n",
       "      <td>-421.857081</td>\n",
       "      <td>33.294281</td>\n",
       "      <td>1.644415</td>\n",
       "      <td>13.633983</td>\n",
       "      <td>7.246328</td>\n",
       "      <td>9.105665</td>\n",
       "      <td>1.900678</td>\n",
       "      <td>4.566417</td>\n",
       "      <td>2.584016</td>\n",
       "      <td>2.037084</td>\n",
       "      <td>...</td>\n",
       "      <td>2.996791</td>\n",
       "      <td>0.192776</td>\n",
       "      <td>0.004903</td>\n",
       "      <td>0.192776</td>\n",
       "      <td>0.212657</td>\n",
       "      <td>0.394238</td>\n",
       "      <td>3.170138</td>\n",
       "      <td>5.272842</td>\n",
       "      <td>0.058269</td>\n",
       "      <td>5.272842</td>\n",
       "    </tr>\n",
       "    <tr>\n",
       "      <th>50%</th>\n",
       "      <td>-357.984077</td>\n",
       "      <td>75.522910</td>\n",
       "      <td>13.289176</td>\n",
       "      <td>22.364407</td>\n",
       "      <td>13.175408</td>\n",
       "      <td>14.100489</td>\n",
       "      <td>6.082306</td>\n",
       "      <td>7.615932</td>\n",
       "      <td>5.320516</td>\n",
       "      <td>4.385919</td>\n",
       "      <td>...</td>\n",
       "      <td>4.824554</td>\n",
       "      <td>0.266555</td>\n",
       "      <td>0.008895</td>\n",
       "      <td>0.266555</td>\n",
       "      <td>1.112405</td>\n",
       "      <td>3.049377</td>\n",
       "      <td>6.306443</td>\n",
       "      <td>46.097932</td>\n",
       "      <td>0.186928</td>\n",
       "      <td>46.097932</td>\n",
       "    </tr>\n",
       "    <tr>\n",
       "      <th>75%</th>\n",
       "      <td>-288.116650</td>\n",
       "      <td>117.666468</td>\n",
       "      <td>26.232846</td>\n",
       "      <td>32.444798</td>\n",
       "      <td>20.451285</td>\n",
       "      <td>19.313216</td>\n",
       "      <td>10.139115</td>\n",
       "      <td>11.193497</td>\n",
       "      <td>7.875841</td>\n",
       "      <td>6.620364</td>\n",
       "      <td>...</td>\n",
       "      <td>7.159447</td>\n",
       "      <td>0.408839</td>\n",
       "      <td>0.016376</td>\n",
       "      <td>0.408839</td>\n",
       "      <td>8.850539</td>\n",
       "      <td>31.117038</td>\n",
       "      <td>13.208955</td>\n",
       "      <td>369.923990</td>\n",
       "      <td>1.086804</td>\n",
       "      <td>369.923990</td>\n",
       "    </tr>\n",
       "    <tr>\n",
       "      <th>max</th>\n",
       "      <td>89.179722</td>\n",
       "      <td>230.009125</td>\n",
       "      <td>87.233833</td>\n",
       "      <td>69.558220</td>\n",
       "      <td>45.402035</td>\n",
       "      <td>47.930321</td>\n",
       "      <td>27.024879</td>\n",
       "      <td>29.738153</td>\n",
       "      <td>21.592770</td>\n",
       "      <td>16.572027</td>\n",
       "      <td>...</td>\n",
       "      <td>17.601891</td>\n",
       "      <td>0.929123</td>\n",
       "      <td>0.616648</td>\n",
       "      <td>0.929123</td>\n",
       "      <td>1308.895084</td>\n",
       "      <td>1851.174838</td>\n",
       "      <td>30.116535</td>\n",
       "      <td>10169.772653</td>\n",
       "      <td>918.713623</td>\n",
       "      <td>10169.772653</td>\n",
       "    </tr>\n",
       "  </tbody>\n",
       "</table>\n",
       "<p>8 rows × 288 columns</p>\n",
       "</div>"
      ],
      "text/plain": [
       "                  0             1             2             3             4  \\\n",
       "count  21920.000000  21920.000000  21920.000000  21920.000000  21920.000000   \n",
       "mean    -362.028138     76.656521     13.867724     23.134419     13.530277   \n",
       "std       97.657851     49.301453     20.346455     12.874986      9.791746   \n",
       "min     -715.911499    -11.668478    -63.292484    -16.191671    -40.169548   \n",
       "25%     -421.857081     33.294281      1.644415     13.633983      7.246328   \n",
       "50%     -357.984077     75.522910     13.289176     22.364407     13.175408   \n",
       "75%     -288.116650    117.666468     26.232846     32.444798     20.451285   \n",
       "max       89.179722    230.009125     87.233833     69.558220     45.402035   \n",
       "\n",
       "                  5             6             7             8             9  \\\n",
       "count  21920.000000  21920.000000  21920.000000  21920.000000  21920.000000   \n",
       "mean      14.430811      5.822029      8.036747      5.193717      4.238122   \n",
       "std        7.339059      6.582927      4.998027      4.381847      3.692239   \n",
       "min      -14.121813    -23.693340     -7.884364    -22.042070     -9.996052   \n",
       "25%        9.105665      1.900678      4.566417      2.584016      2.037084   \n",
       "50%       14.100489      6.082306      7.615932      5.320516      4.385919   \n",
       "75%       19.313216     10.139115     11.193497      7.875841      6.620364   \n",
       "max       47.930321     27.024879     29.738153     21.592770     16.572027   \n",
       "\n",
       "       ...           278           279           280           281  \\\n",
       "count  ...  21920.000000  21920.000000  21920.000000  21920.000000   \n",
       "mean   ...      5.775532      0.309760      0.016260      0.309760   \n",
       "std    ...      3.919830      0.182288      0.030398      0.182288   \n",
       "min    ...     -4.468212      0.014182      0.000237      0.014182   \n",
       "25%    ...      2.996791      0.192776      0.004903      0.192776   \n",
       "50%    ...      4.824554      0.266555      0.008895      0.266555   \n",
       "75%    ...      7.159447      0.408839      0.016376      0.408839   \n",
       "max    ...     17.601891      0.929123      0.616648      0.929123   \n",
       "\n",
       "                282           283           284           285           286  \\\n",
       "count  21920.000000  21920.000000  21920.000000  21920.000000  21920.000000   \n",
       "mean      13.152576     47.103890      8.849090    662.805056      4.298539   \n",
       "std       48.093591    127.693634      7.044356   1619.426792     22.643005   \n",
       "min        0.000325      0.000291     -0.713021      0.002335      0.000226   \n",
       "25%        0.212657      0.394238      3.170138      5.272842      0.058269   \n",
       "50%        1.112405      3.049377      6.306443     46.097932      0.186928   \n",
       "75%        8.850539     31.117038     13.208955    369.923990      1.086804   \n",
       "max     1308.895084   1851.174838     30.116535  10169.772653    918.713623   \n",
       "\n",
       "                287  \n",
       "count  21920.000000  \n",
       "mean     662.805056  \n",
       "std     1619.426792  \n",
       "min        0.002335  \n",
       "25%        5.272842  \n",
       "50%       46.097932  \n",
       "75%      369.923990  \n",
       "max    10169.772653  \n",
       "\n",
       "[8 rows x 288 columns]"
      ]
     },
     "execution_count": 9,
     "metadata": {},
     "output_type": "execute_result"
    }
   ],
   "source": [
    "df.describe()"
   ]
  },
  {
   "cell_type": "markdown",
   "metadata": {
    "id": "bOmvYW0UN2SH"
   },
   "source": [
    "## Description for Categorical Columns"
   ]
  },
  {
   "cell_type": "code",
   "execution_count": 10,
   "metadata": {
    "colab": {
     "base_uri": "https://localhost:8080/"
    },
    "execution": {
     "iopub.execute_input": "2023-01-30T11:38:53.095135Z",
     "iopub.status.busy": "2023-01-30T11:38:53.094774Z",
     "iopub.status.idle": "2023-01-30T11:38:53.113022Z",
     "shell.execute_reply": "2023-01-30T11:38:53.112150Z",
     "shell.execute_reply.started": "2023-01-30T11:38:53.095100Z"
    },
    "id": "AtGH_cxjN_jJ",
    "outputId": "24c8e98d-8788-4f9f-e70b-d2b1b9bb5445",
    "trusted": true
   },
   "outputs": [
    {
     "data": {
      "text/html": [
       "<div>\n",
       "<style scoped>\n",
       "    .dataframe tbody tr th:only-of-type {\n",
       "        vertical-align: middle;\n",
       "    }\n",
       "\n",
       "    .dataframe tbody tr th {\n",
       "        vertical-align: top;\n",
       "    }\n",
       "\n",
       "    .dataframe thead th {\n",
       "        text-align: right;\n",
       "    }\n",
       "</style>\n",
       "<table border=\"1\" class=\"dataframe\">\n",
       "  <thead>\n",
       "    <tr style=\"text-align: right;\">\n",
       "      <th></th>\n",
       "      <th>EVENTS</th>\n",
       "    </tr>\n",
       "  </thead>\n",
       "  <tbody>\n",
       "    <tr>\n",
       "      <th>count</th>\n",
       "      <td>21920</td>\n",
       "    </tr>\n",
       "    <tr>\n",
       "      <th>unique</th>\n",
       "      <td>10</td>\n",
       "    </tr>\n",
       "    <tr>\n",
       "      <th>top</th>\n",
       "      <td>machine_gun</td>\n",
       "    </tr>\n",
       "    <tr>\n",
       "      <th>freq</th>\n",
       "      <td>2836</td>\n",
       "    </tr>\n",
       "  </tbody>\n",
       "</table>\n",
       "</div>"
      ],
      "text/plain": [
       "             EVENTS\n",
       "count         21920\n",
       "unique           10\n",
       "top     machine_gun\n",
       "freq           2836"
      ]
     },
     "execution_count": 10,
     "metadata": {},
     "output_type": "execute_result"
    }
   ],
   "source": [
    "df.describe(include=['object'])"
   ]
  },
  {
   "cell_type": "markdown",
   "metadata": {
    "id": "PIaAzXsrN18W"
   },
   "source": [
    "## Data Info Checking any Null Value"
   ]
  },
  {
   "cell_type": "code",
   "execution_count": 11,
   "metadata": {
    "colab": {
     "base_uri": "https://localhost:8080/"
    },
    "execution": {
     "iopub.execute_input": "2023-01-30T11:38:53.115965Z",
     "iopub.status.busy": "2023-01-30T11:38:53.115310Z",
     "iopub.status.idle": "2023-01-30T11:38:53.138891Z",
     "shell.execute_reply": "2023-01-30T11:38:53.137829Z",
     "shell.execute_reply.started": "2023-01-30T11:38:53.115925Z"
    },
    "id": "NMrzlgdL6FnE",
    "outputId": "663f420e-1994-4279-fd5b-c5833168f313",
    "trusted": true
   },
   "outputs": [
    {
     "data": {
      "text/plain": [
       "0         0\n",
       "1         0\n",
       "2         0\n",
       "3         0\n",
       "4         0\n",
       "         ..\n",
       "284       0\n",
       "285       0\n",
       "286       0\n",
       "287       0\n",
       "EVENTS    0\n",
       "Length: 289, dtype: int64"
      ]
     },
     "execution_count": 11,
     "metadata": {},
     "output_type": "execute_result"
    }
   ],
   "source": [
    "df.isnull().sum()  "
   ]
  },
  {
   "cell_type": "code",
   "execution_count": 12,
   "metadata": {
    "execution": {
     "iopub.execute_input": "2023-01-30T11:38:53.143378Z",
     "iopub.status.busy": "2023-01-30T11:38:53.143082Z",
     "iopub.status.idle": "2023-01-30T11:38:53.209878Z",
     "shell.execute_reply": "2023-01-30T11:38:53.208865Z",
     "shell.execute_reply.started": "2023-01-30T11:38:53.143352Z"
    },
    "id": "snB-y5TY-dei",
    "trusted": true
   },
   "outputs": [
    {
     "name": "stderr",
     "output_type": "stream",
     "text": [
      "C:\\Users\\faiqa\\AppData\\Local\\Temp\\ipykernel_15564\\428694935.py:2: FutureWarning: DataFrame.interpolate with object dtype is deprecated and will raise in a future version. Call obj.infer_objects(copy=False) before interpolating instead.\n",
      "  df = df.interpolate()\n"
     ]
    }
   ],
   "source": [
    "## The methatical model of linear interpolation is performed on the dataframe to handle data linearly\n",
    "df = df.interpolate() "
   ]
  },
  {
   "cell_type": "code",
   "execution_count": 13,
   "metadata": {
    "execution": {
     "iopub.execute_input": "2023-01-30T11:38:53.211852Z",
     "iopub.status.busy": "2023-01-30T11:38:53.211246Z",
     "iopub.status.idle": "2023-01-30T11:38:53.216702Z",
     "shell.execute_reply": "2023-01-30T11:38:53.215514Z",
     "shell.execute_reply.started": "2023-01-30T11:38:53.211811Z"
    },
    "id": "j7Jcqfsi51B9",
    "trusted": true
   },
   "outputs": [],
   "source": [
    "## Padding Interpolation is used to fill in the gaps left by Linear Interpolation. When using padding interpolation, you must set a limit, which is the maximum amount of nans the technique may fill in a row.\n",
    "# df = df.interpolate(method='pad', limit=15) "
   ]
  },
  {
   "cell_type": "code",
   "execution_count": 14,
   "metadata": {
    "colab": {
     "base_uri": "https://localhost:8080/"
    },
    "execution": {
     "iopub.execute_input": "2023-01-30T11:38:53.218918Z",
     "iopub.status.busy": "2023-01-30T11:38:53.218491Z",
     "iopub.status.idle": "2023-01-30T11:38:53.247219Z",
     "shell.execute_reply": "2023-01-30T11:38:53.246335Z",
     "shell.execute_reply.started": "2023-01-30T11:38:53.218879Z"
    },
    "id": "U8pr0JWO9FcO",
    "outputId": "a260f68c-8de3-4bfb-c22d-0c967eea7f4a",
    "trusted": true
   },
   "outputs": [
    {
     "data": {
      "text/plain": [
       "0         0\n",
       "1         0\n",
       "2         0\n",
       "3         0\n",
       "4         0\n",
       "         ..\n",
       "284       0\n",
       "285       0\n",
       "286       0\n",
       "287       0\n",
       "EVENTS    0\n",
       "Length: 289, dtype: int64"
      ]
     },
     "execution_count": 14,
     "metadata": {},
     "output_type": "execute_result"
    }
   ],
   "source": [
    "df.isnull().sum()  "
   ]
  },
  {
   "cell_type": "markdown",
   "metadata": {
    "id": "FrAlcbSgtLBo"
   },
   "source": [
    "## Exploratory Analysis"
   ]
  },
  {
   "cell_type": "code",
   "execution_count": 15,
   "metadata": {
    "colab": {
     "base_uri": "https://localhost:8080/"
    },
    "execution": {
     "iopub.execute_input": "2023-01-30T11:38:53.249308Z",
     "iopub.status.busy": "2023-01-30T11:38:53.248652Z",
     "iopub.status.idle": "2023-01-30T11:38:53.496584Z",
     "shell.execute_reply": "2023-01-30T11:38:53.495539Z",
     "shell.execute_reply.started": "2023-01-30T11:38:53.249252Z"
    },
    "id": "vAM8GtFztqrI",
    "outputId": "aac287c2-6105-4e0b-f76a-fc58a785352c",
    "trusted": true
   },
   "outputs": [
    {
     "data": {
      "text/plain": [
       "<Axes: xlabel='EVENTS', ylabel='count'>"
      ]
     },
     "execution_count": 15,
     "metadata": {},
     "output_type": "execute_result"
    },
    {
     "data": {
      "image/png": "[encoded data removed]",
      "text/plain": [
       "<Figure size 640x480 with 1 Axes>"
      ]
     },
     "metadata": {},
     "output_type": "display_data"
    }
   ],
   "source": [
    "sns.countplot(x = df['EVENTS'])"
   ]
  },
  {
   "cell_type": "code",
   "execution_count": 16,
   "metadata": {
    "execution": {
     "iopub.execute_input": "2023-01-30T11:38:53.498861Z",
     "iopub.status.busy": "2023-01-30T11:38:53.497918Z",
     "iopub.status.idle": "2023-01-30T11:38:53.509484Z",
     "shell.execute_reply": "2023-01-30T11:38:53.508600Z",
     "shell.execute_reply.started": "2023-01-30T11:38:53.498820Z"
    },
    "trusted": true
   },
   "outputs": [
    {
     "name": "stdout",
     "output_type": "stream",
     "text": [
      "EVENTS\n",
      "machine_gun     2836\n",
      "assault         2208\n",
      "police_siren    2154\n",
      "car_crash       2130\n",
      "explosion       2126\n",
      "scream          2126\n",
      "foot_steps      2108\n",
      "glass_break     2094\n",
      "gunshot         2086\n",
      "baby_cry        2052\n",
      "Name: count, dtype: int64\n"
     ]
    }
   ],
   "source": [
    "print(df[\"EVENTS\"].value_counts())"
   ]
  },
  {
   "cell_type": "code",
   "execution_count": 17,
   "metadata": {
    "execution": {
     "iopub.execute_input": "2023-01-30T11:38:53.510933Z",
     "iopub.status.busy": "2023-01-30T11:38:53.510656Z",
     "iopub.status.idle": "2023-01-30T11:38:54.075309Z",
     "shell.execute_reply": "2023-01-30T11:38:54.074248Z",
     "shell.execute_reply.started": "2023-01-30T11:38:53.510907Z"
    },
    "trusted": true
   },
   "outputs": [],
   "source": [
    "%matplotlib inline\n",
    "\n",
    "df[\"EVENTS\"].value_counts().plot(kind='barh')\n",
    "plt.savefig('events_count.pdf', dpi=1)"
   ]
  },
  {
   "cell_type": "code",
   "execution_count": 18,
   "metadata": {
    "execution": {
     "iopub.execute_input": "2023-01-30T11:38:54.122901Z",
     "iopub.status.busy": "2023-01-30T11:38:54.122434Z",
     "iopub.status.idle": "2023-01-30T11:38:54.146978Z",
     "shell.execute_reply": "2023-01-30T11:38:54.145790Z",
     "shell.execute_reply.started": "2023-01-30T11:38:54.122865Z"
    },
    "id": "KIcstCPh8mXb",
    "trusted": true
   },
   "outputs": [],
   "source": [
    "## Split dataset\n",
    "\n",
    "x = df.iloc[:,:-1].values\n",
    "y = df[\"EVENTS\"].values\n",
    "\n",
    "# x = df.drop(['id','stroke'],axis=1)\n",
    "# y = df[[ 'stroke']]"
   ]
  },
  {
   "cell_type": "markdown",
   "metadata": {
    "id": "UEBEseZDAgLk"
   },
   "source": [
    "## Train and Test Split"
   ]
  },
  {
   "cell_type": "code",
   "execution_count": 19,
   "metadata": {
    "execution": {
     "iopub.execute_input": "2023-01-30T11:38:54.189411Z",
     "iopub.status.busy": "2023-01-30T11:38:54.188762Z",
     "iopub.status.idle": "2023-01-30T11:38:54.261046Z",
     "shell.execute_reply": "2023-01-30T11:38:54.260054Z",
     "shell.execute_reply.started": "2023-01-30T11:38:54.189384Z"
    },
    "id": "PkCneikX6ZGB",
    "trusted": true
   },
   "outputs": [],
   "source": [
    "xtrain, xtest, ytrain, ytest = train_test_split(x, y, test_size=0.2, random_state=42)"
   ]
  },
  {
   "cell_type": "markdown",
   "metadata": {
    "id": "ZgemAYfgArcE"
   },
   "source": [
    "## Model Training"
   ]
  },
  {
   "cell_type": "markdown",
   "metadata": {},
   "source": [
    "# Active Learning Ensmble"
   ]
  },
  {
   "cell_type": "code",
   "execution_count": 20,
   "metadata": {
    "execution": {
     "iopub.execute_input": "2023-01-30T11:39:04.500256Z",
     "iopub.status.busy": "2023-01-30T11:39:04.499711Z",
     "iopub.status.idle": "2023-01-30T11:39:04.708446Z",
     "shell.execute_reply": "2023-01-30T11:39:04.707362Z",
     "shell.execute_reply.started": "2023-01-30T11:39:04.500214Z"
    },
    "trusted": true
   },
   "outputs": [],
   "source": [
    "X_train, X_test, y_train, y_test = train_test_split(x, y, test_size=0.20, random_state=42)\n",
    "\n",
    "# Split the training data into initial labeled and pool sets\n",
    "X_labeled, X_pool, y_labeled, y_pool = train_test_split(X_train, y_train, test_size=0.20, random_state=42)"
   ]
  },
  {
   "cell_type": "code",
   "execution_count": 21,
   "metadata": {
    "execution": {
     "iopub.execute_input": "2023-01-30T11:39:04.960093Z",
     "iopub.status.busy": "2023-01-30T11:39:04.959505Z",
     "iopub.status.idle": "2023-01-30T11:39:04.966568Z",
     "shell.execute_reply": "2023-01-30T11:39:04.965584Z",
     "shell.execute_reply.started": "2023-01-30T11:39:04.960047Z"
    },
    "trusted": true
   },
   "outputs": [
    {
     "name": "stdout",
     "output_type": "stream",
     "text": [
      "(17536, 288) (4384, 288) (17536,) (4384,)\n"
     ]
    }
   ],
   "source": [
    "print(X_train.shape,  X_test.shape, y_train.shape,  y_test.shape)"
   ]
  },
  {
   "cell_type": "code",
   "execution_count": 22,
   "metadata": {
    "execution": {
     "iopub.execute_input": "2023-01-30T11:39:06.116256Z",
     "iopub.status.busy": "2023-01-30T11:39:06.115715Z",
     "iopub.status.idle": "2023-01-30T11:39:06.122423Z",
     "shell.execute_reply": "2023-01-30T11:39:06.121425Z",
     "shell.execute_reply.started": "2023-01-30T11:39:06.116214Z"
    },
    "trusted": true
   },
   "outputs": [
    {
     "name": "stdout",
     "output_type": "stream",
     "text": [
      "(14028, 288) (3508, 288) (14028,) (3508,)\n"
     ]
    }
   ],
   "source": [
    "print(X_labeled.shape,  X_pool.shape, y_labeled.shape,  y_pool.shape)"
   ]
  },
  {
   "cell_type": "code",
   "execution_count": 39,
   "metadata": {
    "execution": {
     "iopub.execute_input": "2023-01-30T11:39:06.550648Z",
     "iopub.status.busy": "2023-01-30T11:39:06.550049Z",
     "iopub.status.idle": "2023-01-30T11:43:21.242005Z",
     "shell.execute_reply": "2023-01-30T11:43:21.240979Z",
     "shell.execute_reply.started": "2023-01-30T11:39:06.550601Z"
    },
    "trusted": true
   },
   "outputs": [
    {
     "name": "stderr",
     "output_type": "stream",
     "text": [
      "2023-01-30 11:42:22.484318: I tensorflow/stream_executor/cuda/cuda_gpu_executor.cc:937] successful NUMA node read from SysFS had negative value (-1), but there must be at least one NUMA node, so returning NUMA node zero\n",
      "2023-01-30 11:42:22.488358: I tensorflow/stream_executor/cuda/cuda_gpu_executor.cc:937] successful NUMA node read from SysFS had negative value (-1), but there must be at least one NUMA node, so returning NUMA node zero\n",
      "2023-01-30 11:42:22.489109: I tensorflow/stream_executor/cuda/cuda_gpu_executor.cc:937] successful NUMA node read from SysFS had negative value (-1), but there must be at least one NUMA node, so returning NUMA node zero\n",
      "2023-01-30 11:42:22.491624: I tensorflow/core/platform/cpu_feature_guard.cc:142] This TensorFlow binary is optimized with oneAPI Deep Neural Network Library (oneDNN) to use the following CPU instructions in performance-critical operations:  AVX2 AVX512F FMA\n",
      "To enable them in other operations, rebuild TensorFlow with the appropriate compiler flags.\n",
      "2023-01-30 11:42:22.491956: I tensorflow/stream_executor/cuda/cuda_gpu_executor.cc:937] successful NUMA node read from SysFS had negative value (-1), but there must be at least one NUMA node, so returning NUMA node zero\n",
      "2023-01-30 11:42:22.492635: I tensorflow/stream_executor/cuda/cuda_gpu_executor.cc:937] successful NUMA node read from SysFS had negative value (-1), but there must be at least one NUMA node, so returning NUMA node zero\n",
      "2023-01-30 11:42:22.493253: I tensorflow/stream_executor/cuda/cuda_gpu_executor.cc:937] successful NUMA node read from SysFS had negative value (-1), but there must be at least one NUMA node, so returning NUMA node zero\n",
      "2023-01-30 11:42:24.690709: I tensorflow/stream_executor/cuda/cuda_gpu_executor.cc:937] successful NUMA node read from SysFS had negative value (-1), but there must be at least one NUMA node, so returning NUMA node zero\n",
      "2023-01-30 11:42:24.691608: I tensorflow/stream_executor/cuda/cuda_gpu_executor.cc:937] successful NUMA node read from SysFS had negative value (-1), but there must be at least one NUMA node, so returning NUMA node zero\n",
      "2023-01-30 11:42:24.692255: I tensorflow/stream_executor/cuda/cuda_gpu_executor.cc:937] successful NUMA node read from SysFS had negative value (-1), but there must be at least one NUMA node, so returning NUMA node zero\n",
      "2023-01-30 11:42:24.692857: I tensorflow/core/common_runtime/gpu/gpu_device.cc:1510] Created device /job:localhost/replica:0/task:0/device:GPU:0 with 15381 MB memory:  -> device: 0, name: Tesla P100-PCIE-16GB, pci bus id: 0000:00:04.0, compute capability: 6.0\n",
      "2023-01-30 11:42:25.224227: I tensorflow/compiler/mlir/mlir_graph_optimization_pass.cc:185] None of the MLIR Optimization Passes are enabled (registered 2)\n"
     ]
    },
    {
     "name": "stdout",
     "output_type": "stream",
     "text": [
      "Model: \"sequential\"\n",
      "_________________________________________________________________\n",
      "Layer (type)                 Output Shape              Param #   \n",
      "=================================================================\n",
      "dense (Dense)                (None, 1000)              289000    \n",
      "_________________________________________________________________\n",
      "dense_1 (Dense)              (None, 750)               750750    \n",
      "_________________________________________________________________\n",
      "dense_2 (Dense)              (None, 500)               375500    \n",
      "_________________________________________________________________\n",
      "dense_3 (Dense)              (None, 250)               125250    \n",
      "_________________________________________________________________\n",
      "dense_4 (Dense)              (None, 100)               25100     \n",
      "_________________________________________________________________\n",
      "dense_5 (Dense)              (None, 50)                5050      \n",
      "_________________________________________________________________\n",
      "dense_6 (Dense)              (None, 10)                510       \n",
      "=================================================================\n",
      "Total params: 1,571,160\n",
      "Trainable params: 1,571,160\n",
      "Non-trainable params: 0\n",
      "_________________________________________________________________\n",
      "Model: \"sequential_1\"\n",
      "_________________________________________________________________\n",
      "Layer (type)                 Output Shape              Param #   \n",
      "=================================================================\n",
      "dense_7 (Dense)              (None, 9)                 2601      \n",
      "_________________________________________________________________\n",
      "dropout (Dropout)            (None, 9)                 0         \n",
      "_________________________________________________________________\n",
      "dense_8 (Dense)              (None, 9)                 90        \n",
      "_________________________________________________________________\n",
      "dense_9 (Dense)              (None, 10)                100       \n",
      "=================================================================\n",
      "Total params: 2,791\n",
      "Trainable params: 2,791\n",
      "Non-trainable params: 0\n",
      "_________________________________________________________________\n",
      "Active learning loop stopped at iteration 0 with accuracy 0.9535347776510832\n",
      "[[439   0   0   0  10   1   0   0   0   0]\n",
      " [  0 415   0   0   0   4   0   0   0   3]\n",
      " [  2   0 378   0   2   4  25   4   0   5]\n",
      " [  9   0   5 377   9   7  17  25   3   3]\n",
      " [  6   0   1   1 401  11   0   3   1   0]\n",
      " [  6  16   1   2   4 392   3   2   0   0]\n",
      " [ 13   0   4  10   4   0 358   3   0   2]\n",
      " [  2   0   0   2   5   0   0 560   0   0]\n",
      " [  0   1   0   0   4   0   0   0 406   2]\n",
      " [  0   2   3   1   0   0   0   0   1 404]]\n",
      "              precision    recall  f1-score   support\n",
      "\n",
      "     assault       0.92      0.98      0.95       450\n",
      "    baby_cry       0.96      0.98      0.97       422\n",
      "   car_crash       0.96      0.90      0.93       420\n",
      "   explosion       0.96      0.83      0.89       455\n",
      "  foot_steps       0.91      0.95      0.93       424\n",
      " glass_break       0.94      0.92      0.93       426\n",
      "     gunshot       0.89      0.91      0.90       394\n",
      " machine_gun       0.94      0.98      0.96       569\n",
      "police_siren       0.99      0.98      0.99       413\n",
      "      scream       0.96      0.98      0.97       411\n",
      "\n",
      "    accuracy                           0.94      4384\n",
      "   macro avg       0.94      0.94      0.94      4384\n",
      "weighted avg       0.94      0.94      0.94      4384\n",
      "\n"
     ]
    }
   ],
   "source": [
    "\n",
    "\n",
    "# Initialize the classifier\n",
    "clf = ensemble\n",
    "\n",
    "# Set the criteria for the active learning loop\n",
    "max_iterations = 10 # maximum number of iterations to perform\n",
    "min_accuracy = 0.95 # desired minimum accuracy to stop the loop\n",
    "\n",
    "# Loop over the active learning process\n",
    "for i in range(max_iterations):\n",
    "    # Train the classifier on the labeled data\n",
    "    clf.fit(X_labeled, y_labeled)\n",
    "    \n",
    "    # Use the trained classifier to predict the labels of the pool set\n",
    "    y_pred = clf.predict(X_pool)\n",
    "    \n",
    "    # Evaluate the accuracy of the predictions\n",
    "    accuracy = np.mean(y_pred == y_pool)\n",
    "    \n",
    "    # Check if the desired minimum accuracy has been reached\n",
    "    if accuracy >= min_accuracy:\n",
    "        print(\"Active learning loop stopped at iteration {} with accuracy {}\".format(i, accuracy))\n",
    "        break\n",
    "    \n",
    "    # Find the index of the most uncertain sample\n",
    "    uncertainty = clf.predict_proba(X_pool).max(axis=1)\n",
    "    \n",
    "     # Calculate the entropy of each instance, which is a measure of uncertainty\n",
    "    entropy = -np.sum(uncertainty * np.log(uncertainty), axis=1)\n",
    "    \n",
    "    # Find the instance with the highest entropy\n",
    "    uncertain_sample = np.argmax(entropy)\n",
    "    \n",
    "    # Add the most uncertain sample to the labeled data\n",
    "    X_labeled = np.concatenate((X_labeled, X_pool[uncertain_sample].reshape(1, -1)))\n",
    "    y_labeled = np.concatenate((y_labeled, [y_pool[uncertain_sample]]))\n",
    "    \n",
    "    # Remove the most uncertain sample from the pool set\n",
    "    X_pool = np.delete(X_pool, uncertain_sample, 0)\n",
    "    y_pool = np.delete(y_pool, uncertain_sample)\n",
    "    \n",
    "# Use the final classifier to make predictions on the test set\n",
    "y_test_pred = clf.predict(X_test)\n",
    "\n",
    "# Plot the confusion matrix\n",
    "cm = confusion_matrix(y_test, y_test_pred)\n",
    "print(cm)\n",
    "# Print the classification report\n",
    "cr = classification_report(y_test, y_test_pred)\n",
    "print(cr)"
   ]
  },
  {
   "cell_type": "code",
   "execution_count": 40,
   "metadata": {
    "execution": {
     "iopub.execute_input": "2023-01-30T11:43:21.244650Z",
     "iopub.status.busy": "2023-01-30T11:43:21.243924Z",
     "iopub.status.idle": "2023-01-30T11:43:21.802132Z",
     "shell.execute_reply": "2023-01-30T11:43:21.800807Z",
     "shell.execute_reply.started": "2023-01-30T11:43:21.244610Z"
    },
    "trusted": true
   },
   "outputs": [
    {
     "data": {
      "image/png": "[encoded data removed]",
      "text/plain": [
       "<Figure size 432x288 with 2 Axes>"
      ]
     },
     "metadata": {
      "needs_background": "light"
     },
     "output_type": "display_data"
    }
   ],
   "source": [
    "from sklearn.metrics import confusion_matrix, classification_report\n",
    "import matplotlib.pyplot as plt\n",
    "import seaborn as sns\n",
    "\n",
    "# # make predictions on the test set\n",
    "# y_pred = model.predict(X_test)\n",
    "\n",
    "# # calculate the confusion matrix\n",
    "# cm = confusion_matrix(y_test, y_pred)\n",
    "\n",
    "# plot the confusion matrix using seaborn\n",
    "sns.heatmap(cm, annot=True, cmap='Blues', fmt='d')\n",
    "plt.xlabel('Predicted')\n",
    "plt.ylabel('True')\n",
    "plt.title('Confusion Matrix')\n",
    "plt.show()\n",
    "\n",
    "# print the classification report\n",
    "# print(classification_report(y_test, y_pred))"
   ]
  },
  {
   "cell_type": "code",
   "execution_count": 41,
   "metadata": {
    "execution": {
     "iopub.execute_input": "2023-01-30T11:43:21.804342Z",
     "iopub.status.busy": "2023-01-30T11:43:21.803882Z",
     "iopub.status.idle": "2023-01-30T11:43:21.810393Z",
     "shell.execute_reply": "2023-01-30T11:43:21.809235Z",
     "shell.execute_reply.started": "2023-01-30T11:43:21.804298Z"
    },
    "trusted": true
   },
   "outputs": [
    {
     "name": "stdout",
     "output_type": "stream",
     "text": [
      "(17536, 288) (4384, 288) (17536,) (4384,)\n"
     ]
    }
   ],
   "source": [
    "print(X_train.shape,  X_test.shape, y_train.shape,  y_test.shape)"
   ]
  },
  {
   "cell_type": "code",
   "execution_count": 42,
   "metadata": {
    "execution": {
     "iopub.execute_input": "2023-01-30T11:43:21.813398Z",
     "iopub.status.busy": "2023-01-30T11:43:21.812996Z",
     "iopub.status.idle": "2023-01-30T11:43:21.820871Z",
     "shell.execute_reply": "2023-01-30T11:43:21.819890Z",
     "shell.execute_reply.started": "2023-01-30T11:43:21.813360Z"
    },
    "trusted": true
   },
   "outputs": [
    {
     "name": "stdout",
     "output_type": "stream",
     "text": [
      "(14028, 288) (3508, 288) (14028,) (3508,)\n"
     ]
    }
   ],
   "source": [
    "print(X_labeled.shape,  X_pool.shape, y_labeled.shape,  y_pool.shape)"
   ]
  },
  {
   "cell_type": "code",
   "execution_count": 2,
   "metadata": {},
   "outputs": [
    {
     "ename": "NameError",
     "evalue": "name 'ensemble' is not defined",
     "output_type": "error",
     "traceback": [
      "\u001b[1;31m---------------------------------------------------------------------------\u001b[0m",
      "\u001b[1;31mNameError\u001b[0m                                 Traceback (most recent call last)",
      "Cell \u001b[1;32mIn[2], line 2\u001b[0m\n\u001b[0;32m      1\u001b[0m \u001b[38;5;66;03m# Initialize the classifier\u001b[39;00m\n\u001b[1;32m----> 2\u001b[0m clf \u001b[38;5;241m=\u001b[39m ensemble\n\u001b[0;32m      4\u001b[0m \u001b[38;5;66;03m# Set the criteria for the active learning loop\u001b[39;00m\n\u001b[0;32m      5\u001b[0m max_iterations \u001b[38;5;241m=\u001b[39m \u001b[38;5;241m10\u001b[39m \u001b[38;5;66;03m# maximum number of iterations to perform\u001b[39;00m\n",
      "\u001b[1;31mNameError\u001b[0m: name 'ensemble' is not defined"
     ]
    }
   ],
   "source": [
    "\n",
    "# Initialize the classifier\n",
    "clf = ensemble\n",
    "\n",
    "# Set the criteria for the active learning loop\n",
    "max_iterations = 10 # maximum number of iterations to perform\n",
    "min_accuracy = 0.95 # desired minimum accuracy to stop the loop\n",
    "\n",
    "# Loop over the active learning process\n",
    "for i in range(max_iterations):\n",
    "    # Train the classifier on the labeled data\n",
    "    clf.fit(X_labeled, y_labeled)\n",
    "    \n",
    "    # Use the trained classifier to predict the labels of the pool set\n",
    "    y_pred = clf.predict(X_pool)\n",
    "    \n",
    "    # Evaluate the accuracy of the predictions\n",
    "    accuracy = np.mean(y_pred == y_pool)\n",
    "    \n",
    "    # Check if the desired minimum accuracy has been reached\n",
    "    if accuracy >= min_accuracy:\n",
    "        print(\"Active learning loop stopped at iteration {} with accuracy {}\".format(i, accuracy))\n",
    "        break\n",
    "    \n",
    "    # Find the index of the most uncertain sample\n",
    "    uncertainty = clf.predict_proba(X_pool).max(axis=1)\n",
    "    \n",
    "     # Calculate the entropy of each instance, which is a measure of uncertainty\n",
    "    entropy = -np.sum(uncertainty * np.log(uncertainty), axis=1)\n",
    "    \n",
    "    # Find the instance with the highest entropy\n",
    "    uncertain_sample = np.argmax(entropy)\n",
    "    \n",
    "    # Add the most uncertain sample to the labeled data\n",
    "    X_labeled = np.concatenate((X_labeled, X_pool[uncertain_sample].reshape(1, -1)))\n",
    "    y_labeled = np.concatenate((y_labeled, [y_pool[uncertain_sample]]))\n",
    "    \n",
    "    # Remove the most uncertain sample from the pool set\n",
    "    X_pool = np.delete(X_pool, uncertain_sample, 0)\n",
    "    y_pool = np.delete(y_pool, uncertain_sample)\n",
    "    \n",
    "# Use the final classifier to make predictions on the test set\n",
    "y_test_pred = clf.predict(X_test)\n",
    "\n",
    "# Plot the confusion matrix\n",
    "cm = confusion_matrix(y_test, y_test_pred)\n",
    "print(cm)\n",
    "# Print the classification report\n",
    "cr = classification_report(y_test, y_test_pred)\n",
    "print(cr)"
   ]
  },
  {
   "cell_type": "code",
   "execution_count": null,
   "metadata": {},
   "outputs": [],
   "source": []
  }
 ],
 "metadata": {
  "colab": {
   "collapsed_sections": [
    "vjTN6dOYmLhH",
    "PIaAzXsrN18W",
    "bKaPMj0lxUXB",
    "FrAlcbSgtLBo",
    "UW8hhnKstbWV",
    "D8uZJXh8uFDO",
    "v_5C6TUHu6MV",
    "rrAWz4dqz6-R",
    "Ku_FJaYHxRPl",
    "2vpRYqD8yGh6",
    "mNf2ONqf429r",
    "gRQq-Sa06zuK",
    "dfCvXely640x",
    "J2K_w2Wv8lQQ",
    "x-WhBM189LXE",
    "FJWBvd8V82aj",
    "1ZaeuIDhSnq1",
    "0PZwnAfrUYd2",
    "_l7_SfU88X8V"
   ],
   "name": "Stoke Ensemble.ipynb",
   "provenance": []
  },
  "kernelspec": {
   "display_name": "base",
   "language": "python",
   "name": "python3"
  },
  "language_info": {
   "codemirror_mode": {
    "name": "ipython",
    "version": 3
   },
   "file_extension": ".py",
   "mimetype": "text/x-python",
   "name": "python",
   "nbconvert_exporter": "python",
   "pygments_lexer": "ipython3",
   "version": "3.12.7"
  }
 },
 "nbformat": 4,
 "nbformat_minor": 4
}
